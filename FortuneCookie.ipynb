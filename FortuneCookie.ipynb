{
 "cells": [
  {
   "cell_type": "markdown",
   "metadata": {},
   "source": [
    "# Fortune Cookie Generator"
   ]
  },
  {
   "cell_type": "code",
   "execution_count": 3,
   "metadata": {},
   "outputs": [],
   "source": [
    "import numpy as np"
   ]
  },
  {
   "cell_type": "code",
   "execution_count": null,
   "metadata": {},
   "outputs": [],
   "source": []
  },
  {
   "cell_type": "code",
   "execution_count": 42,
   "metadata": {},
   "outputs": [],
   "source": [
    "fortune = [\"Stop searching. Happiness will come for you\", \n",
    "           \"People will find it difficult to resist your propositions\", \"Love is in the air, breathe it in\",\n",
    "           \"Success comes before work, your work will pay off\", \"Your hardships will fade like the sun at night\",\n",
    "           \"With seasonal change, this too shall pass\", \"Self doubt is the first step of self injury\",\n",
    "           \"Take time to live in the moment\", \"This is a secret message, now destroy this\", \n",
    "           \"Do your best, that is literally all you can do\", \"Failures teach more than success, learn from them\",\n",
    "           \"Did you turn it off and on again? Good job\", \"There are always issues, decide which ones matter most\",\n",
    "           \"Like water, be calm while being a force of nature\", \"Love cannot be contained, so let it free\",\n",
    "           \"One day, you will forget this message\", \"After a meal, take a walk, your health matters\", \n",
    "           \"Take a chance, especially if the statistical probabilities agree with you\", \n",
    "           \"Shine like a bright star\", \"You have talent, find ways to show the world\", \"A smile can improve your mood\",\n",
    "           \"Your wifi password should be changed\", \"Some things are certain, some things are not\",\n",
    "           \"Everyone has dreams, some make them come true\", \"The laws of physics are immune to your wishful thinking\",\n",
    "           \"Soap and water combined can clean away the germs\", \"Remember to look both ways when crossing a street\",\n",
    "           \"Some distant planet in the galaxy has no effect on your life\", \"Life can be easier when you have a friend\",\n",
    "           \"People will find you enjoyable with a smile\", \"Money is not the goal, quality time is\", \n",
    "           \"Words cut like knives, weild yours wisely\", \"Feeling tired and exhausted is part of the Capitalism dream\",\n",
    "           \"Feeling bad is a minor set back in the journey\", \"Not all stars shine bright for forever, it's okay\",\n",
    "           \"Listen to your body, listen to medical doctors and eat your vegetables\", \"Sorry, no microchip here\",\n",
    "           \"Ancient wisdom is no excuse for ignoring modern science\", \n",
    "           \"Early to rise, may help make you wise, inconclusive results\", \n",
    "           \"The cardiovascular system has nothing to do with feelings of love\", \n",
    "           \"You can catch more flies with honey, even more with bullshit\", \n",
    "           \"Being kind to others costs $0, give it a try for 30 days\", \"Food is the prescription for many ills\",\n",
    "           \"It is good to be a sweet person, but watch the glucose\", \"When there is a fire, call for help\",\n",
    "           \"Breathe in, breathe out, breathing is good for you\", \n",
    "           \"You will rise above the obstacle in front of you, once you step on it\", \"Someone near you likes you\",\n",
    "           \"Try your best to uphold the Prime Directive\", \"It is okay to cry, if you need to or not\",\n",
    "           \"People in your life are there for some reason\", \"Alter the mind, alter your behaviour, open doors of possibilities\",\n",
    "           \"Only you can stop yourself from achieving your goals\", \"Remember that taxes and death are always there\",\n",
    "           \"When you are not sure, ask for help, there is strength in asking for help\", \"Find the average, then mu\",\n",
    "           \"We all need space, some need astronomical units\", \"Think before you Tweet, later on it may be bittersweet\",\n",
    "           \"Numbers are a pathway, find yours\", \"Your corporeal existence is one of many on this planet\", \n",
    "           \"Use spices in food, many people died for them\", \"Some things don't need to be said\", \n",
    "           \"Actions have consequences and are stronger than words\", \"Some planets have a bestfriend, some don't\",\n",
    "           \"You can use this fortune as an excuse for limited time\", \"Not all calories are equal\", \n",
    "           \"A journey starts with a step, in the forward direction\", \"You are fortunate to recieve this fortune, very fortunate\",\n",
    "           \"To see clearly of the problem in front of you, put on your glasses\", \"The universe is full of positrons, be positive\",\n",
    "           \"You do not have to have blood type B+ to be a positive person\", \"Positve thoughts are good, but medicine is better\",\n",
    "           \"It is soon time for you to get going\", \"Take time to smell the flowers, unless you have allergies\",\n",
    "           \"Carry a notebook around for your ideas, write them down before they're lost\",\n",
    "           \"Self care is important not just to you, but others as well\", \"Remember to eat dietary fiber\",\n",
    "           \"Thank you for your patreonage\", \"Your opinion is appreciated\",\"One of our staff will be with you shortly\",\n",
    "           \"Your fortune will be blessed in the order it was opened\", \"Your fortune queue line number is 665414198\",\n",
    "           \"I heard that you are wonderful\",\"Stretching the muscles is a good idea to do, try it\",\n",
    "           \"Please, do not buy or send another poundcake, they are gross\", \n",
    "           \"The weather will turn to your liking, sometime, some day\", \"Please keep for fortune cookie records\",\n",
    "           \"This fortune is 100% organic\", \"Your fortune may be selected to win a prize\",\"Some terms and conditions may apply to your fortune\",\n",
    "           \"Bring this fortune with you for luck\", \"There is an old saying about something that can be used to make your point\",\n",
    "           \"Books are like time travel, take time to travel\",\n",
    "          ]"
   ]
  },
  {
   "cell_type": "code",
   "execution_count": 43,
   "metadata": {},
   "outputs": [
    {
     "data": {
      "text/plain": [
       "93"
      ]
     },
     "execution_count": 43,
     "metadata": {},
     "output_type": "execute_result"
    }
   ],
   "source": [
    "len(fortune) "
   ]
  },
  {
   "cell_type": "code",
   "execution_count": null,
   "metadata": {},
   "outputs": [],
   "source": []
  },
  {
   "cell_type": "code",
   "execution_count": 44,
   "metadata": {},
   "outputs": [],
   "source": [
    "def cookie():\n",
    "    lucky_numbers = np.random.randint(1,100,4)\n",
    "#     lucky_numbers\n",
    "    f = np.random.randint(0, (len(fortune)-1))\n",
    "    # f\n",
    "    message = fortune[f]\n",
    "    \n",
    "    print(f\"** {message} **\")\n",
    "    print(lucky_numbers) \n",
    "     "
   ]
  },
  {
   "cell_type": "code",
   "execution_count": 46,
   "metadata": {},
   "outputs": [
    {
     "name": "stdout",
     "output_type": "stream",
     "text": [
      "** The weather will turn to your liking, sometime, some day **\n",
      "[11  1 53 27]\n"
     ]
    }
   ],
   "source": [
    "cookie() "
   ]
  },
  {
   "cell_type": "code",
   "execution_count": null,
   "metadata": {},
   "outputs": [],
   "source": []
  }
 ],
 "metadata": {
  "kernelspec": {
   "display_name": "Python 3",
   "language": "python",
   "name": "python3"
  },
  "language_info": {
   "codemirror_mode": {
    "name": "ipython",
    "version": 3
   },
   "file_extension": ".py",
   "mimetype": "text/x-python",
   "name": "python",
   "nbconvert_exporter": "python",
   "pygments_lexer": "ipython3",
   "version": "3.7.4"
  }
 },
 "nbformat": 4,
 "nbformat_minor": 2
}
